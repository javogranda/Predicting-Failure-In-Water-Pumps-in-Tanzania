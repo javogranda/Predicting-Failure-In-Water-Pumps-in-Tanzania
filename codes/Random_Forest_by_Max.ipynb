{
 "cells": [
  {
   "cell_type": "markdown",
   "metadata": {},
   "source": [
    "## Importing Analytical Packages"
   ]
  },
  {
   "cell_type": "code",
   "execution_count": 25,
   "metadata": {},
   "outputs": [],
   "source": [
    "# Load the library with the iris dataset\n",
    "from sklearn.datasets import load_iris\n",
    "\n",
    "# Load scikit's random forest classifier library\n",
    "from sklearn.ensemble import RandomForestClassifier\n",
    "\n",
    "# Load pandas\n",
    "import pandas as pd\n",
    "\n",
    "# Load numpy\n",
    "import numpy as np\n",
    "\n",
    "# Set random seed\n",
    "np.random.seed(0)"
   ]
  },
  {
   "cell_type": "markdown",
   "metadata": {},
   "source": [
    "## Data Preparation Done by Dataiku"
   ]
  },
  {
   "cell_type": "markdown",
   "metadata": {},
   "source": [
    "## Loading Data"
   ]
  },
  {
   "cell_type": "code",
   "execution_count": 2,
   "metadata": {},
   "outputs": [],
   "source": [
    "#loading the data for independent variables\n",
    "train_set = pd.read_csv('C:/Users/yangj/Documents/GitHub/pumpitup_1/data/data_to_go_max/train_set_to_go.csv')\n",
    "test_set = pd.read_csv('C:/Users/yangj/Documents/GitHub/pumpitup_1/data/data_to_go_max/test_set_to_go.csv')\n",
    "\n",
    "#loading target_set\n",
    "target_train = pd.read_csv('C:/Users/yangj/Documents/GitHub/pumpitup_1/data/target_vars.csv')"
   ]
  },
  {
   "cell_type": "markdown",
   "metadata": {},
   "source": [
    "## Factorize Target"
   ]
  },
  {
   "cell_type": "code",
   "execution_count": 3,
   "metadata": {},
   "outputs": [],
   "source": [
    "y = pd.factorize(target_train['status_group'])[0]\n",
    "y_index =pd.factorize(target_train['status_group'])[1]"
   ]
  },
  {
   "cell_type": "code",
   "execution_count": 4,
   "metadata": {},
   "outputs": [
    {
     "data": {
      "text/plain": [
       "Index(['id', 'amount_tsh', 'date_recorded', 'funder', 'installer', 'wpt_name',\n",
       "       'basin', 'subvillage', 'region', 'region_code', 'district_code', 'lga',\n",
       "       'population', 'public_meeting', 'scheme_name', 'permit',\n",
       "       'construction_year', 'extraction_type_class', 'management',\n",
       "       'user_group', 'payment', 'water_soft', 'quantity', 'source_type',\n",
       "       'source_class', 'waterpoint_type_group', 'gps_height', 'longitude',\n",
       "       'latitude', 'train_set'],\n",
       "      dtype='object')"
      ]
     },
     "execution_count": 4,
     "metadata": {},
     "output_type": "execute_result"
    }
   ],
   "source": [
    "train_set.columns"
   ]
  },
  {
   "cell_type": "markdown",
   "metadata": {},
   "source": [
    "## Transformation Train_set and Test_set into array"
   ]
  },
  {
   "cell_type": "code",
   "execution_count": 5,
   "metadata": {},
   "outputs": [],
   "source": [
    "x_train = train_set.drop(labels = ['id','date_recorded','train_set','region'], axis = 1)\n",
    "x_train[['funder', 'installer', 'wpt_name', 'basin', 'subvillage','region_code', 'district_code', 'lga', 'public_meeting', 'scheme_name', 'permit',\\\n",
    "        'construction_year', 'extraction_type_class', 'management', 'user_group', 'payment', 'water_soft', 'source_type', 'source_class', 'waterpoint_type_group']]\\\n",
    "= x_train[['funder', 'installer', 'wpt_name', 'basin', 'subvillage','region_code', 'district_code', 'lga', 'public_meeting', 'scheme_name', 'permit',\\\n",
    "        'construction_year', 'extraction_type_class', 'management', 'user_group', 'payment', 'water_soft', 'source_type', 'source_class', 'waterpoint_type_group']]\\\n",
    "        .apply(lambda x: pd.factorize(x)[0])\n",
    "x_train = x_train.fillna(0)\n",
    "x_train = x_train.as_matrix()\n",
    "\n",
    "x_test = test_set.drop(labels = ['id','date_recorded','train_set','region'], axis = 1)\n",
    "x_test[['funder', 'installer', 'wpt_name', 'basin', 'subvillage','region_code', 'district_code', 'lga', 'public_meeting', 'scheme_name', 'permit',\\\n",
    "        'construction_year', 'extraction_type_class', 'management', 'user_group', 'payment', 'water_soft', 'source_type', 'source_class', 'waterpoint_type_group']]\\\n",
    "= x_test[['funder', 'installer', 'wpt_name', 'basin', 'subvillage','region_code', 'district_code', 'lga', 'public_meeting', 'scheme_name', 'permit',\\\n",
    "        'construction_year', 'extraction_type_class', 'management', 'user_group', 'payment', 'water_soft', 'source_type', 'source_class', 'waterpoint_type_group']]\\\n",
    "        .apply(lambda x: pd.factorize(x)[0])\n",
    "x_test = x_test.fillna(0)\n",
    "x_test = x_test.as_matrix()"
   ]
  },
  {
   "cell_type": "code",
   "execution_count": 6,
   "metadata": {},
   "outputs": [
    {
     "data": {
      "text/plain": [
       "array([[  6.00000000e+03,   0.00000000e+00,   0.00000000e+00, ...,\n",
       "          1.39000000e+03,   3.49380928e+01,  -9.85632177e+00],\n",
       "       [  0.00000000e+00,   0.00000000e+00,   0.00000000e+00, ...,\n",
       "          1.39900000e+03,   3.46987661e+01,  -2.14746569e+00],\n",
       "       [  2.50000000e+01,   0.00000000e+00,   1.00000000e+00, ...,\n",
       "          6.86000000e+02,   3.74606645e+01,  -3.82132853e+00],\n",
       "       ..., \n",
       "       [  0.00000000e+00,   6.00000000e+00,   5.00000000e+00, ...,\n",
       "          1.06700000e+03,   3.40170871e+01,  -8.75043433e+00],\n",
       "       [  0.00000000e+00,   0.00000000e+00,   0.00000000e+00, ...,\n",
       "          1.05600000e+03,   3.58613153e+01,  -6.37857327e+00],\n",
       "       [  0.00000000e+00,   8.00000000e+00,   0.00000000e+00, ...,\n",
       "          1.91000000e+02,   3.81040482e+01,  -6.74746425e+00]])"
      ]
     },
     "execution_count": 6,
     "metadata": {},
     "output_type": "execute_result"
    }
   ],
   "source": [
    "x_train"
   ]
  },
  {
   "cell_type": "markdown",
   "metadata": {},
   "source": [
    "## Train Random Forest Classifier"
   ]
  },
  {
   "cell_type": "code",
   "execution_count": 8,
   "metadata": {},
   "outputs": [
    {
     "data": {
      "text/plain": [
       "dtype('float64')"
      ]
     },
     "execution_count": 8,
     "metadata": {},
     "output_type": "execute_result"
    }
   ],
   "source": [
    "x_train.dtype"
   ]
  },
  {
   "cell_type": "code",
   "execution_count": 19,
   "metadata": {},
   "outputs": [
    {
     "data": {
      "text/plain": [
       "RandomForestClassifier(bootstrap=True, class_weight=None, criterion='gini',\n",
       "            max_depth=None, max_features='auto', max_leaf_nodes=None,\n",
       "            min_impurity_decrease=0.0, min_impurity_split=None,\n",
       "            min_samples_leaf=1, min_samples_split=2,\n",
       "            min_weight_fraction_leaf=0.0, n_estimators=10, n_jobs=2,\n",
       "            oob_score=False, random_state=0, verbose=0, warm_start=False)"
      ]
     },
     "execution_count": 19,
     "metadata": {},
     "output_type": "execute_result"
    }
   ],
   "source": [
    "# Create a random forest Classifier. By convention, clf means 'Classifier'\n",
    "clf = RandomForestClassifier(n_jobs=2, random_state=0)\n",
    "\n",
    "# Train the Classifier to take the training features and learn how they relate\n",
    "# to the training y (the species)\n",
    "clf.fit(x_train, y)"
   ]
  },
  {
   "cell_type": "markdown",
   "metadata": {},
   "source": [
    "## Prediction Using Classifier Trained"
   ]
  },
  {
   "cell_type": "code",
   "execution_count": 20,
   "metadata": {},
   "outputs": [],
   "source": [
    "y_pred = clf.predict(x_train);"
   ]
  },
  {
   "cell_type": "code",
   "execution_count": 21,
   "metadata": {},
   "outputs": [
    {
     "data": {
      "text/plain": [
       "array([0, 0, 0, ..., 0, 0, 0], dtype=int64)"
      ]
     },
     "execution_count": 21,
     "metadata": {},
     "output_type": "execute_result"
    }
   ],
   "source": [
    "y_pred"
   ]
  },
  {
   "cell_type": "code",
   "execution_count": 22,
   "metadata": {},
   "outputs": [
    {
     "data": {
      "text/html": [
       "<div>\n",
       "<style>\n",
       "    .dataframe thead tr:only-child th {\n",
       "        text-align: right;\n",
       "    }\n",
       "\n",
       "    .dataframe thead th {\n",
       "        text-align: left;\n",
       "    }\n",
       "\n",
       "    .dataframe tbody tr th {\n",
       "        vertical-align: top;\n",
       "    }\n",
       "</style>\n",
       "<table border=\"1\" class=\"dataframe\">\n",
       "  <thead>\n",
       "    <tr style=\"text-align: right;\">\n",
       "      <th>Predicted</th>\n",
       "      <th>0</th>\n",
       "      <th>1</th>\n",
       "      <th>2</th>\n",
       "    </tr>\n",
       "    <tr>\n",
       "      <th>Actual</th>\n",
       "      <th></th>\n",
       "      <th></th>\n",
       "      <th></th>\n",
       "    </tr>\n",
       "  </thead>\n",
       "  <tbody>\n",
       "    <tr>\n",
       "      <th>0</th>\n",
       "      <td>32047</td>\n",
       "      <td>95</td>\n",
       "      <td>117</td>\n",
       "    </tr>\n",
       "    <tr>\n",
       "      <th>1</th>\n",
       "      <td>537</td>\n",
       "      <td>22256</td>\n",
       "      <td>31</td>\n",
       "    </tr>\n",
       "    <tr>\n",
       "      <th>2</th>\n",
       "      <td>360</td>\n",
       "      <td>67</td>\n",
       "      <td>3890</td>\n",
       "    </tr>\n",
       "  </tbody>\n",
       "</table>\n",
       "</div>"
      ],
      "text/plain": [
       "Predicted      0      1     2\n",
       "Actual                       \n",
       "0          32047     95   117\n",
       "1            537  22256    31\n",
       "2            360     67  3890"
      ]
     },
     "execution_count": 22,
     "metadata": {},
     "output_type": "execute_result"
    }
   ],
   "source": [
    "pd.crosstab(y, y_pred, rownames=['Actual'], colnames=['Predicted'])"
   ]
  }
 ],
 "metadata": {
  "kernelspec": {
   "display_name": "Python 3",
   "language": "python",
   "name": "python3"
  },
  "language_info": {
   "codemirror_mode": {
    "name": "ipython",
    "version": 3
   },
   "file_extension": ".py",
   "mimetype": "text/x-python",
   "name": "python",
   "nbconvert_exporter": "python",
   "pygments_lexer": "ipython3",
   "version": "3.6.3"
  }
 },
 "nbformat": 4,
 "nbformat_minor": 2
}
