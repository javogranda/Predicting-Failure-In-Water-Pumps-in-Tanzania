{
 "cells": [
  {
   "cell_type": "markdown",
   "metadata": {},
   "source": [
    "# XGboost on PumpitUp Data"
   ]
  },
  {
   "cell_type": "code",
   "execution_count": null,
   "metadata": {},
   "outputs": [],
   "source": [
    "import pandas as pd\n",
    "import numpy as np\n",
    "import matplotlib.pyplot as plt\n",
    "import seaborn as sns\n",
    "from sklearn.preprocessing import LabelEncoder\n",
    "import xgboost as xgb\n",
    "from sklearn.metrics import accuracy_score\n",
    "from sklearn.metrics import precision_score\n",
    "from IPython.display import display, HTML"
   ]
  },
  {
   "cell_type": "code",
   "execution_count": null,
   "metadata": {},
   "outputs": [],
   "source": [
    "#Reading the data\n",
    "train_set = pd.read_csv('/Users/javiergranda/Google Drive/term2/ml2/pumpitup/data/data_javo/train_set.csv')\n",
    "test_set = pd.read_csv('/Users/javiergranda/Google Drive/term2/ml2/pumpitup/data/data_javo/test_set.csv')\n",
    "target = pd.read_csv('/Users/javiergranda/Google Drive/term2/ml2/pumpitup/data/target_vars.csv')\n",
    "sub_form = pd.read_csv('/Users/javiergranda/Google Drive/term2/ml2/pumpitup/data/SubmissionFormat.csv')"
   ]
  },
  {
   "cell_type": "code",
   "execution_count": null,
   "metadata": {},
   "outputs": [],
   "source": [
    "#Inspect all data\n",
    "print (\"Train data shape:\", train_set.shape)\n",
    "print (\"Test data shape:\", test_set.shape)\n",
    "print (\"Target features shape:\", target.shape)"
   ]
  },
  {
   "cell_type": "code",
   "execution_count": null,
   "metadata": {},
   "outputs": [],
   "source": [
    "# Merging train and target\n",
    "#train = pd.merge(train_set, target, on='id')\n",
    "#train.head()"
   ]
  },
  {
   "cell_type": "code",
   "execution_count": null,
   "metadata": {},
   "outputs": [],
   "source": [
    "# Checking var types and nulls\n",
    "train_set.info()"
   ]
  },
  {
   "cell_type": "code",
   "execution_count": null,
   "metadata": {},
   "outputs": [],
   "source": [
    "# Factorizing target features\n",
    "train_y = pd.factorize(target['status_group'])[0]\n",
    "y_index =pd.factorize(target['status_group'])[1]"
   ]
  },
  {
   "cell_type": "code",
   "execution_count": 48,
   "metadata": {},
   "outputs": [
    {
     "data": {
      "image/png": "[encoded data removed]",
      "text/plain": [
       "<matplotlib.figure.Figure at 0x1151e67b8>"
      ]
     },
     "metadata": {},
     "output_type": "display_data"
    }
   ],
   "source": [
    "# Checking correlations\n",
    "corr = train_set.corr()\n",
    "plt.figure(figsize = (9, 7))\n",
    "sns.heatmap(corr, cmap=\"RdBu\",\n",
    "            xticklabels=corr.columns.values,\n",
    "            yticklabels=corr.columns.values)\n",
    "plt.show()"
   ]
  },
  {
   "cell_type": "code",
   "execution_count": null,
   "metadata": {},
   "outputs": [],
   "source": [
    "# Dropping unnecessary columns\n",
    "X_train = train_set.drop(['id','date_recorded','region'], axis = 1)\n",
    "\n",
    "# same for test\n",
    "X_test = test_set.drop(['id','date_recorded','region'], axis = 1)"
   ]
  },
  {
   "cell_type": "code",
   "execution_count": null,
   "metadata": {},
   "outputs": [],
   "source": [
    "# Factorizing character vars on train_set\n",
    "cat_feat_train = X_train.dtypes.pipe(lambda x: x[x == 'object']).index\n",
    "\n",
    "# using sklearn function\n",
    "le = LabelEncoder()\n",
    "for feature in cat_feat_train:\n",
    "    X_train[feature] = le.fit_transform(X_train[feature].astype(str))\n",
    "\n",
    "# filling NAs   \n",
    "X_train = X_train.fillna(0)\n",
    "\n",
    "# Same for test set\n",
    "cat_feat_test = X_test.dtypes.pipe(lambda x: x[x == 'object']).index\n",
    "\n",
    "le = LabelEncoder()\n",
    "\n",
    "for feature in cat_feat_test:\n",
    "    X_test[feature] = le.fit_transform(X_test[feature].astype(str))   \n",
    "\n",
    "X_test = X_test.fillna(0)"
   ]
  },
  {
   "cell_type": "code",
   "execution_count": null,
   "metadata": {},
   "outputs": [],
   "source": [
    "# Alternative Method: Factorizing character vars on train_set\n",
    "#cat_feat_train = train_set.dtypes.pipe(lambda x: x[x == 'object']).index\n",
    "\n",
    "#for c in cat_feat_train:\n",
    "#    train_set[c] = pd.factorize(train_set[c])[0]\n",
    "\n",
    "# same for test data   \n",
    "#cat_feat_test = test_set.dtypes.pipe(lambda x: x[x == 'object']).index\n",
    "\n",
    "#for c in cat_feat_test:\n",
    "#    test_set[c] = pd.factorize(test_set[c])[0]"
   ]
  },
  {
   "cell_type": "code",
   "execution_count": null,
   "metadata": {},
   "outputs": [],
   "source": [
    "gbm = xgb.XGBClassifier(max_depth=3, n_estimators=300, learning_rate=0.05).fit(X_train, train_y)"
   ]
  },
  {
   "cell_type": "code",
   "execution_count": null,
   "metadata": {},
   "outputs": [],
   "source": [
    "predictions = gbm.predict(X_test)"
   ]
  },
  {
   "cell_type": "code",
   "execution_count": null,
   "metadata": {},
   "outputs": [],
   "source": [
    "test_set['predict'] = predictions\n",
    "test_set['predict'] = test_set['predict'].replace(to_replace = [0,1,2], value = y_index)\n",
    "to_sub = test_set[['id','predict']]"
   ]
  },
  {
   "cell_type": "code",
   "execution_count": null,
   "metadata": {},
   "outputs": [],
   "source": [
    "submission = pd.merge(sub_form, to_sub, on = 'id')\n",
    "submission = submission.drop('status_group', axis = 1)\n",
    "submission.columns = ['id', 'status_group']\n",
    "submission.to_csv('submission.csv',header = True, index = False)"
   ]
  }
 ],
 "metadata": {
  "kernelspec": {
   "display_name": "Python 3",
   "language": "python",
   "name": "python3"
  },
  "language_info": {
   "codemirror_mode": {
    "name": "ipython",
    "version": 3
   },
   "file_extension": ".py",
   "mimetype": "text/x-python",
   "name": "python",
   "nbconvert_exporter": "python",
   "pygments_lexer": "ipython3",
   "version": "3.6.3"
  }
 },
 "nbformat": 4,
 "nbformat_minor": 2
}
